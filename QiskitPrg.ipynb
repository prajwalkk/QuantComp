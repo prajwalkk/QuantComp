{
 "cells": [
  {
   "cell_type": "code",
   "execution_count": 11,
   "metadata": {
    "pycharm": {
     "is_executing": false
    }
   },
   "outputs": [
    {
     "data": {
      "text/plain": "<qiskit.visualization.text.TextDrawing at 0x1feff0c1388>",
      "text/html": "<pre style=\"word-wrap: normal;white-space: pre;background: #fff0;line-height: 1.1;font-family: &quot;Courier New&quot;,Courier,monospace\">        ┌───┐     ┌─┐   \nq_0: |0>┤ X ├──■──┤M├───\n        └───┘┌─┴─┐└╥┘┌─┐\nq_1: |0>─────┤ X ├─╫─┤M├\n             └───┘ ║ └╥┘\n c_0: 0 ═══════════╩══╬═\n                      ║ \n c_1: 0 ══════════════╩═\n                        </pre>"
     },
     "metadata": {},
     "output_type": "execute_result",
     "execution_count": 11
    }
   ],
   "source": [
    "import qiskit as q\n",
    "from qiskit.tools.monitor import job_monitor\n",
    "%matplotlib inline\n",
    "\n",
    "# Start from the bit level\n",
    "circuit = q.QuantumCircuit(2,2) #2 qbits and 2 normal bits\n",
    "\n",
    "# NOT Gate\n",
    "circuit.x(0)\n",
    "\n",
    "# Controlled NOT. Flips 2nd Qbit iff frst qbit is a 1\n",
    "circuit.cx(0,1)\n",
    "\n",
    "circuit.measure([0,1], [0,1])\n",
    "\n",
    "circuit.draw()"
   ]
  },
  {
   "cell_type": "code",
   "execution_count": 12,
   "metadata": {
    "pycharm": {
     "is_executing": false
    }
   },
   "outputs": [
    {
     "data": {
      "text/plain": "<Figure size 397.32x204.68 with 1 Axes>",
      "image/png": "[encoded data removed]"
     },
     "metadata": {},
     "output_type": "execute_result",
     "execution_count": 12
    }
   ],
   "source": [
    "circuit.draw(output='mpl')\n"
   ]
  },
  {
   "cell_type": "code",
   "execution_count": 13,
   "outputs": [
    {
     "name": "stderr",
     "text": [
      "Credentials already present. Set overwrite=True to overwrite.\n",
      "c:\\users\\prajw\\.conda\\envs\\qiskitprojects\\lib\\site-packages\\qiskit\\providers\\models\\backendconfiguration.py:337: UserWarning: `dt` and `dtm` now have units of seconds(s) rather than nanoseconds(ns).\n  warnings.warn('`dt` and `dtm` now have units of seconds(s) rather '\n"
     ],
     "output_type": "stream"
    },
    {
     "data": {
      "text/plain": "<AccountProvider for IBMQ(hub='ibm-q', group='open', project='main')>"
     },
     "metadata": {},
     "output_type": "execute_result",
     "execution_count": 13
    }
   ],
   "source": [
    "from qiskit import IBMQ\n",
    "\n",
    "IBMQ.save_account(open(\"token\", \"r\").read())\n",
    "\n",
    "IBMQ.load_account()"
   ],
   "metadata": {
    "collapsed": false,
    "pycharm": {
     "name": "#%%\n",
     "is_executing": false
    }
   }
  },
  {
   "cell_type": "code",
   "execution_count": 14,
   "outputs": [
    {
     "name": "stdout",
     "text": [
      "ibmq_qasm_simulator has 1 queued and simulated qubits\n",
      "ibmqx2 has 19 queued and 5 qubits\n",
      "ibmq_16_melbourne has 4 queued and 14 qubits\n",
      "ibmq_vigo has 34 queued and 5 qubits\n",
      "ibmq_ourense has 24 queued and 5 qubits\n",
      "ibmq_london has 21 queued and 5 qubits\n",
      "ibmq_burlington has 15 queued and 5 qubits\n",
      "ibmq_essex has 16 queued and 5 qubits\n",
      "ibmq_armonk has 0 queued and 1 qubits\n"
     ],
     "output_type": "stream"
    }
   ],
   "source": [
    "provider = IBMQ.get_provider(\"ibm-q\")\n",
    "\n",
    "for backend in provider.backends():\n",
    "    try:\n",
    "        qubit_count = len(backend.properties().qubits)\n",
    "    except:\n",
    "        qubit_count = \"simulated\"\n",
    "    print(f\"{backend.name()} has {backend.status().pending_jobs} queued and {qubit_count} qubits\")\n",
    "    \n",
    "\n"
   ],
   "metadata": {
    "collapsed": false,
    "pycharm": {
     "name": "#%%\n",
     "is_executing": false
    }
   }
  },
  {
   "cell_type": "code",
   "execution_count": 15,
   "outputs": [
    {
     "name": "stdout",
     "text": [
      "\rJob Status: job is being validated",
      "\rJob Status: job is queued (0)     ",
      "\rJob Status: job is queued (15)    ",
      "\rJob Status: job is queued (14)    ",
      "\rJob Status: job is queued (13)    ",
      "\rJob Status: job is queued (12)    ",
      "\rJob Status: job is queued (11)    ",
      "\rJob Status: job is queued (10)    ",
      "\rJob Status: job is queued (9)     ",
      "\rJob Status: job is queued (8)     ",
      "\rJob Status: job is queued (7)     ",
      "\rJob Status: job is queued (6)     ",
      "\rJob Status: job is queued (5)     ",
      "\rJob Status: job is queued (4)     ",
      "\rJob Status: job is queued (3)     ",
      "\rJob Status: job is queued (2)     ",
      "\rJob Status: job is queued (1)     ",
      "\rJob Status: job is actively running",
      "\rJob Status: job has successfully run\n"
     ],
     "output_type": "stream"
    }
   ],
   "source": [
    "\n",
    "backend = provider.get_backend(\"ibmq_burlington\")\n",
    "\n",
    "job = q.execute(circuit, backend=backend, shots=500)\n",
    "job_monitor(job)"
   ],
   "metadata": {
    "collapsed": false,
    "pycharm": {
     "name": "#%%\n",
     "is_executing": false
    }
   }
  },
  {
   "cell_type": "code",
   "execution_count": 16,
   "outputs": [
    {
     "data": {
      "text/plain": "<Figure size 504x360 with 1 Axes>",
      "image/png": "[encoded data removed]"
     },
     "metadata": {},
     "output_type": "execute_result",
     "execution_count": 16
    }
   ],
   "source": [
    "from qiskit.visualization import plot_histogram\n",
    "\n",
    "\n",
    "result = job.result()\n",
    "counts = result.get_counts(circuit)\n",
    "\n",
    "plot_histogram([counts])\n"
   ],
   "metadata": {
    "collapsed": false,
    "pycharm": {
     "name": "#%%\n",
     "is_executing": false
    }
   }
  },
  {
   "cell_type": "code",
   "execution_count": 17,
   "outputs": [
    {
     "data": {
      "text/plain": "<qiskit.visualization.text.TextDrawing at 0x1feff5859c8>",
      "text/html": "<pre style=\"word-wrap: normal;white-space: pre;background: #fff0;line-height: 1.1;font-family: &quot;Courier New&quot;,Courier,monospace\">        ┌───┐     ┌─┐   \nq_0: |0>┤ H ├──■──┤M├───\n        └───┘┌─┴─┐└╥┘┌─┐\nq_1: |0>─────┤ X ├─╫─┤M├\n             └───┘ ║ └╥┘\n c_0: 0 ═══════════╩══╬═\n                      ║ \n c_1: 0 ══════════════╩═\n                        </pre>"
     },
     "metadata": {},
     "output_type": "execute_result",
     "execution_count": 17
    }
   ],
   "source": [
    "backend = provider.get_backend(\"ibmq_qasm_simulator\")\n",
    "\n",
    "circuit = q.QuantumCircuit(2,2)\n",
    "\n",
    "circuit.h(0)\n",
    "\n",
    "circuit.cx(0,1)\n",
    "circuit.measure([0,1], [0,1])\n",
    "circuit.draw()"
   ],
   "metadata": {
    "collapsed": false,
    "pycharm": {
     "name": "#%%\n",
     "is_executing": false
    }
   }
  },
  {
   "cell_type": "code",
   "execution_count": 18,
   "outputs": [
    {
     "name": "stdout",
     "text": [
      "\rJob Status: job is being validated",
      "\rJob Status: job is actively running",
      "\rJob Status: job has successfully run\n"
     ],
     "output_type": "stream"
    }
   ],
   "source": [
    "job = q.execute(circuit, backend=backend, shots=500)\n",
    "job_monitor(job)"
   ],
   "metadata": {
    "collapsed": false,
    "pycharm": {
     "name": "#%%\n",
     "is_executing": false
    }
   }
  },
  {
   "cell_type": "code",
   "execution_count": 19,
   "outputs": [
    {
     "data": {
      "text/plain": "<Figure size 504x360 with 1 Axes>",
      "image/png": "[encoded data removed]"
     },
     "metadata": {},
     "output_type": "execute_result",
     "execution_count": 19
    }
   ],
   "source": [
    "result = job.result()\n",
    "counts = result.get_counts(circuit)\n",
    "\n",
    "plot_histogram([counts])\n",
    "\n"
   ],
   "metadata": {
    "collapsed": false,
    "pycharm": {
     "name": "#%%\n",
     "is_executing": false
    }
   }
  },
  {
   "cell_type": "code",
   "execution_count": 20,
   "outputs": [
    {
     "name": "stdout",
     "text": [
      "qasm_simulator\nstatevector_simulator\nunitary_simulator\n"
     ],
     "output_type": "stream"
    }
   ],
   "source": [
    "from qiskit import Aer\n",
    "\n",
    "sim_backend = Aer.get_backend(\"qasm_simulator\")\n",
    "\n",
    "for backend in Aer.backends():\n",
    "    print(backend)\n"
   ],
   "metadata": {
    "collapsed": false,
    "pycharm": {
     "name": "#%%\n",
     "is_executing": false
    }
   }
  },
  {
   "cell_type": "code",
   "execution_count": 21,
   "outputs": [
    {
     "name": "stdout",
     "text": [
      "\rJob Status: job is being initialized",
      "\rJob Status: job has successfully run\n"
     ],
     "output_type": "stream"
    }
   ],
   "source": [
    "job = q.execute(circuit, backend=sim_backend, shots=500)\n",
    "job_monitor(job)\n",
    "\n"
   ],
   "metadata": {
    "collapsed": false,
    "pycharm": {
     "name": "#%%\n",
     "is_executing": false
    }
   }
  },
  {
   "cell_type": "code",
   "execution_count": 22,
   "outputs": [],
   "source": [
    "result = job.result()\n",
    "counts = result.get_counts(circuit)\n",
    "\n"
   ],
   "metadata": {
    "collapsed": false,
    "pycharm": {
     "name": "#%%\n",
     "is_executing": false
    }
   }
  },
  {
   "cell_type": "code",
   "execution_count": 23,
   "outputs": [
    {
     "data": {
      "text/plain": "<Figure size 504x360 with 1 Axes>",
      "image/png": "[encoded data removed]"
     },
     "metadata": {},
     "output_type": "execute_result",
     "execution_count": 23
    }
   ],
   "source": [
    "plot_histogram([counts], legend=['Device'])\n"
   ],
   "metadata": {
    "collapsed": false,
    "pycharm": {
     "name": "#%%\n",
     "is_executing": false
    }
   }
  }
 ],
 "metadata": {
  "kernelspec": {
   "display_name": "Python 3",
   "language": "python",
   "name": "python3"
  },
  "language_info": {
   "name": ""
  },
  "pycharm": {
   "stem_cell": {
    "cell_type": "raw",
    "source": [],
    "metadata": {
     "collapsed": false
    }
   }
  }
 },
 "nbformat": 4,
 "nbformat_minor": 4
}